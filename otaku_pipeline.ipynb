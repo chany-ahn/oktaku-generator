{
  "nbformat": 4,
  "nbformat_minor": 0,
  "metadata": {
    "colab": {
      "name": "otaku-pipeline.ipynb",
      "provenance": [],
      "collapsed_sections": [],
      "include_colab_link": true
    },
    "kernelspec": {
      "name": "python3",
      "display_name": "Python 3"
    },
    "language_info": {
      "name": "python"
    },
    "accelerator": "GPU",
    "widgets": {
      "application/vnd.jupyter.widget-state+json": {
        "ee91b6b5b7114cf2868a219f8752b0b6": {
          "model_module": "@jupyter-widgets/controls",
          "model_name": "HBoxModel",
          "model_module_version": "1.5.0",
          "state": {
            "_view_name": "HBoxView",
            "_dom_classes": [],
            "_model_name": "HBoxModel",
            "_view_module": "@jupyter-widgets/controls",
            "_model_module_version": "1.5.0",
            "_view_count": null,
            "_view_module_version": "1.5.0",
            "box_style": "",
            "layout": "IPY_MODEL_9fa2c7d7fd1649bc9042f8f8d94c09d2",
            "_model_module": "@jupyter-widgets/controls",
            "children": [
              "IPY_MODEL_d513c34fcc114da09633b360f138d22d",
              "IPY_MODEL_be7a39d81c1f4323ab286d43a585f0dd",
              "IPY_MODEL_5d02715f5a3e44cb933fb7fa3b3f7a07"
            ]
          }
        },
        "9fa2c7d7fd1649bc9042f8f8d94c09d2": {
          "model_module": "@jupyter-widgets/base",
          "model_name": "LayoutModel",
          "model_module_version": "1.2.0",
          "state": {
            "_view_name": "LayoutView",
            "grid_template_rows": null,
            "right": null,
            "justify_content": null,
            "_view_module": "@jupyter-widgets/base",
            "overflow": null,
            "_model_module_version": "1.2.0",
            "_view_count": null,
            "flex_flow": null,
            "width": null,
            "min_width": null,
            "border": null,
            "align_items": null,
            "bottom": null,
            "_model_module": "@jupyter-widgets/base",
            "top": null,
            "grid_column": null,
            "overflow_y": null,
            "overflow_x": null,
            "grid_auto_flow": null,
            "grid_area": null,
            "grid_template_columns": null,
            "flex": null,
            "_model_name": "LayoutModel",
            "justify_items": null,
            "grid_row": null,
            "max_height": null,
            "align_content": null,
            "visibility": null,
            "align_self": null,
            "height": null,
            "min_height": null,
            "padding": null,
            "grid_auto_rows": null,
            "grid_gap": null,
            "max_width": null,
            "order": null,
            "_view_module_version": "1.2.0",
            "grid_template_areas": null,
            "object_position": null,
            "object_fit": null,
            "grid_auto_columns": null,
            "margin": null,
            "display": null,
            "left": null
          }
        },
        "d513c34fcc114da09633b360f138d22d": {
          "model_module": "@jupyter-widgets/controls",
          "model_name": "HTMLModel",
          "model_module_version": "1.5.0",
          "state": {
            "_view_name": "HTMLView",
            "style": "IPY_MODEL_bd62322ad1d14500b4278e9f74757d09",
            "_dom_classes": [],
            "description": "",
            "_model_name": "HTMLModel",
            "placeholder": "​",
            "_view_module": "@jupyter-widgets/controls",
            "_model_module_version": "1.5.0",
            "value": "100%",
            "_view_count": null,
            "_view_module_version": "1.5.0",
            "description_tooltip": null,
            "_model_module": "@jupyter-widgets/controls",
            "layout": "IPY_MODEL_f4ecaab7da7940a0a211a76b3538463b"
          }
        },
        "be7a39d81c1f4323ab286d43a585f0dd": {
          "model_module": "@jupyter-widgets/controls",
          "model_name": "FloatProgressModel",
          "model_module_version": "1.5.0",
          "state": {
            "_view_name": "ProgressView",
            "style": "IPY_MODEL_f59915fb1c394457bdcca09fd66bd3e7",
            "_dom_classes": [],
            "description": "",
            "_model_name": "FloatProgressModel",
            "bar_style": "success",
            "max": 1,
            "_view_module": "@jupyter-widgets/controls",
            "_model_module_version": "1.5.0",
            "value": 1,
            "_view_count": null,
            "_view_module_version": "1.5.0",
            "orientation": "horizontal",
            "min": 0,
            "description_tooltip": null,
            "_model_module": "@jupyter-widgets/controls",
            "layout": "IPY_MODEL_562d4a25878844a18fe651334fa8f59b"
          }
        },
        "5d02715f5a3e44cb933fb7fa3b3f7a07": {
          "model_module": "@jupyter-widgets/controls",
          "model_name": "HTMLModel",
          "model_module_version": "1.5.0",
          "state": {
            "_view_name": "HTMLView",
            "style": "IPY_MODEL_9a2f4b9d8a954401a73a6f510b45fa24",
            "_dom_classes": [],
            "description": "",
            "_model_name": "HTMLModel",
            "placeholder": "​",
            "_view_module": "@jupyter-widgets/controls",
            "_model_module_version": "1.5.0",
            "value": " 1/1 [04:35&lt;00:00, 275.84s/it]",
            "_view_count": null,
            "_view_module_version": "1.5.0",
            "description_tooltip": null,
            "_model_module": "@jupyter-widgets/controls",
            "layout": "IPY_MODEL_224e61931d3944cbb57b336029f90ba4"
          }
        },
        "bd62322ad1d14500b4278e9f74757d09": {
          "model_module": "@jupyter-widgets/controls",
          "model_name": "DescriptionStyleModel",
          "model_module_version": "1.5.0",
          "state": {
            "_view_name": "StyleView",
            "_model_name": "DescriptionStyleModel",
            "description_width": "",
            "_view_module": "@jupyter-widgets/base",
            "_model_module_version": "1.5.0",
            "_view_count": null,
            "_view_module_version": "1.2.0",
            "_model_module": "@jupyter-widgets/controls"
          }
        },
        "f4ecaab7da7940a0a211a76b3538463b": {
          "model_module": "@jupyter-widgets/base",
          "model_name": "LayoutModel",
          "model_module_version": "1.2.0",
          "state": {
            "_view_name": "LayoutView",
            "grid_template_rows": null,
            "right": null,
            "justify_content": null,
            "_view_module": "@jupyter-widgets/base",
            "overflow": null,
            "_model_module_version": "1.2.0",
            "_view_count": null,
            "flex_flow": null,
            "width": null,
            "min_width": null,
            "border": null,
            "align_items": null,
            "bottom": null,
            "_model_module": "@jupyter-widgets/base",
            "top": null,
            "grid_column": null,
            "overflow_y": null,
            "overflow_x": null,
            "grid_auto_flow": null,
            "grid_area": null,
            "grid_template_columns": null,
            "flex": null,
            "_model_name": "LayoutModel",
            "justify_items": null,
            "grid_row": null,
            "max_height": null,
            "align_content": null,
            "visibility": null,
            "align_self": null,
            "height": null,
            "min_height": null,
            "padding": null,
            "grid_auto_rows": null,
            "grid_gap": null,
            "max_width": null,
            "order": null,
            "_view_module_version": "1.2.0",
            "grid_template_areas": null,
            "object_position": null,
            "object_fit": null,
            "grid_auto_columns": null,
            "margin": null,
            "display": null,
            "left": null
          }
        },
        "f59915fb1c394457bdcca09fd66bd3e7": {
          "model_module": "@jupyter-widgets/controls",
          "model_name": "ProgressStyleModel",
          "model_module_version": "1.5.0",
          "state": {
            "_view_name": "StyleView",
            "_model_name": "ProgressStyleModel",
            "description_width": "",
            "_view_module": "@jupyter-widgets/base",
            "_model_module_version": "1.5.0",
            "_view_count": null,
            "_view_module_version": "1.2.0",
            "bar_color": null,
            "_model_module": "@jupyter-widgets/controls"
          }
        },
        "562d4a25878844a18fe651334fa8f59b": {
          "model_module": "@jupyter-widgets/base",
          "model_name": "LayoutModel",
          "model_module_version": "1.2.0",
          "state": {
            "_view_name": "LayoutView",
            "grid_template_rows": null,
            "right": null,
            "justify_content": null,
            "_view_module": "@jupyter-widgets/base",
            "overflow": null,
            "_model_module_version": "1.2.0",
            "_view_count": null,
            "flex_flow": null,
            "width": null,
            "min_width": null,
            "border": null,
            "align_items": null,
            "bottom": null,
            "_model_module": "@jupyter-widgets/base",
            "top": null,
            "grid_column": null,
            "overflow_y": null,
            "overflow_x": null,
            "grid_auto_flow": null,
            "grid_area": null,
            "grid_template_columns": null,
            "flex": null,
            "_model_name": "LayoutModel",
            "justify_items": null,
            "grid_row": null,
            "max_height": null,
            "align_content": null,
            "visibility": null,
            "align_self": null,
            "height": null,
            "min_height": null,
            "padding": null,
            "grid_auto_rows": null,
            "grid_gap": null,
            "max_width": null,
            "order": null,
            "_view_module_version": "1.2.0",
            "grid_template_areas": null,
            "object_position": null,
            "object_fit": null,
            "grid_auto_columns": null,
            "margin": null,
            "display": null,
            "left": null
          }
        },
        "9a2f4b9d8a954401a73a6f510b45fa24": {
          "model_module": "@jupyter-widgets/controls",
          "model_name": "DescriptionStyleModel",
          "model_module_version": "1.5.0",
          "state": {
            "_view_name": "StyleView",
            "_model_name": "DescriptionStyleModel",
            "description_width": "",
            "_view_module": "@jupyter-widgets/base",
            "_model_module_version": "1.5.0",
            "_view_count": null,
            "_view_module_version": "1.2.0",
            "_model_module": "@jupyter-widgets/controls"
          }
        },
        "224e61931d3944cbb57b336029f90ba4": {
          "model_module": "@jupyter-widgets/base",
          "model_name": "LayoutModel",
          "model_module_version": "1.2.0",
          "state": {
            "_view_name": "LayoutView",
            "grid_template_rows": null,
            "right": null,
            "justify_content": null,
            "_view_module": "@jupyter-widgets/base",
            "overflow": null,
            "_model_module_version": "1.2.0",
            "_view_count": null,
            "flex_flow": null,
            "width": null,
            "min_width": null,
            "border": null,
            "align_items": null,
            "bottom": null,
            "_model_module": "@jupyter-widgets/base",
            "top": null,
            "grid_column": null,
            "overflow_y": null,
            "overflow_x": null,
            "grid_auto_flow": null,
            "grid_area": null,
            "grid_template_columns": null,
            "flex": null,
            "_model_name": "LayoutModel",
            "justify_items": null,
            "grid_row": null,
            "max_height": null,
            "align_content": null,
            "visibility": null,
            "align_self": null,
            "height": null,
            "min_height": null,
            "padding": null,
            "grid_auto_rows": null,
            "grid_gap": null,
            "max_width": null,
            "order": null,
            "_view_module_version": "1.2.0",
            "grid_template_areas": null,
            "object_position": null,
            "object_fit": null,
            "grid_auto_columns": null,
            "margin": null,
            "display": null,
            "left": null
          }
        }
      }
    }
  },
  "cells": [
    {
      "cell_type": "markdown",
      "metadata": {
        "id": "view-in-github",
        "colab_type": "text"
      },
      "source": [
        "<a href=\"https://colab.research.google.com/github/chany-ahn/otaku-generator/blob/main/otaku_pipeline.ipynb\" target=\"_parent\"><img src=\"https://colab.research.google.com/assets/colab-badge.svg\" alt=\"Open In Colab\"/></a>"
      ]
    },
    {
      "cell_type": "code",
      "execution_count": null,
      "metadata": {
        "id": "qCDfEW8-3XNv",
        "colab": {
          "base_uri": "https://localhost:8080/"
        },
        "outputId": "0954b627-dfe7-4b23-b334-99c76dad1365"
      },
      "outputs": [
        {
          "output_type": "stream",
          "name": "stdout",
          "text": [
            "Requirement already satisfied: dalle-pytorch in /usr/local/lib/python3.7/dist-packages (1.4.2)\n",
            "Requirement already satisfied: youtokentome in /usr/local/lib/python3.7/dist-packages (from dalle-pytorch) (1.0.6)\n",
            "Requirement already satisfied: WebDataset in /usr/local/lib/python3.7/dist-packages (from dalle-pytorch) (0.1.103)\n",
            "Requirement already satisfied: ftfy in /usr/local/lib/python3.7/dist-packages (from dalle-pytorch) (6.1.1)\n",
            "Requirement already satisfied: pillow in /usr/local/lib/python3.7/dist-packages (from dalle-pytorch) (7.1.2)\n",
            "Requirement already satisfied: torch>=1.6 in /usr/local/lib/python3.7/dist-packages (from dalle-pytorch) (1.10.0+cu111)\n",
            "Requirement already satisfied: axial-positional-embedding in /usr/local/lib/python3.7/dist-packages (from dalle-pytorch) (0.2.1)\n",
            "Requirement already satisfied: tqdm in /usr/local/lib/python3.7/dist-packages (from dalle-pytorch) (4.62.3)\n",
            "Requirement already satisfied: tokenizers in /usr/local/lib/python3.7/dist-packages (from dalle-pytorch) (0.11.5)\n",
            "Requirement already satisfied: taming-transformers-rom1504 in /usr/local/lib/python3.7/dist-packages (from dalle-pytorch) (0.0.6)\n",
            "Requirement already satisfied: regex in /usr/local/lib/python3.7/dist-packages (from dalle-pytorch) (2019.12.20)\n",
            "Requirement already satisfied: einops>=0.3.2 in /usr/local/lib/python3.7/dist-packages (from dalle-pytorch) (0.4.0)\n",
            "Requirement already satisfied: DALL-E in /usr/local/lib/python3.7/dist-packages (from dalle-pytorch) (0.1)\n",
            "Requirement already satisfied: transformers in /usr/local/lib/python3.7/dist-packages (from dalle-pytorch) (4.16.2)\n",
            "Requirement already satisfied: torchvision in /usr/local/lib/python3.7/dist-packages (from dalle-pytorch) (0.11.1+cu111)\n",
            "Requirement already satisfied: rotary-embedding-torch in /usr/local/lib/python3.7/dist-packages (from dalle-pytorch) (0.1.2)\n",
            "Requirement already satisfied: typing-extensions in /usr/local/lib/python3.7/dist-packages (from torch>=1.6->dalle-pytorch) (3.10.0.2)\n",
            "Requirement already satisfied: blobfile in /usr/local/lib/python3.7/dist-packages (from DALL-E->dalle-pytorch) (1.2.8)\n",
            "Requirement already satisfied: pytest in /usr/local/lib/python3.7/dist-packages (from DALL-E->dalle-pytorch) (3.6.4)\n",
            "Requirement already satisfied: requests in /usr/local/lib/python3.7/dist-packages (from DALL-E->dalle-pytorch) (2.23.0)\n",
            "Requirement already satisfied: mypy in /usr/local/lib/python3.7/dist-packages (from DALL-E->dalle-pytorch) (0.931)\n",
            "Requirement already satisfied: numpy in /usr/local/lib/python3.7/dist-packages (from DALL-E->dalle-pytorch) (1.21.5)\n",
            "Requirement already satisfied: pycryptodomex~=3.8 in /usr/local/lib/python3.7/dist-packages (from blobfile->DALL-E->dalle-pytorch) (3.14.1)\n",
            "Requirement already satisfied: xmltodict~=0.12.0 in /usr/local/lib/python3.7/dist-packages (from blobfile->DALL-E->dalle-pytorch) (0.12.0)\n",
            "Requirement already satisfied: urllib3~=1.25 in /usr/local/lib/python3.7/dist-packages (from blobfile->DALL-E->dalle-pytorch) (1.25.11)\n",
            "Requirement already satisfied: filelock~=3.0 in /usr/local/lib/python3.7/dist-packages (from blobfile->DALL-E->dalle-pytorch) (3.6.0)\n",
            "Requirement already satisfied: wcwidth>=0.2.5 in /usr/local/lib/python3.7/dist-packages (from ftfy->dalle-pytorch) (0.2.5)\n",
            "Requirement already satisfied: typed-ast<2,>=1.4.0 in /usr/local/lib/python3.7/dist-packages (from mypy->DALL-E->dalle-pytorch) (1.5.2)\n",
            "Requirement already satisfied: mypy-extensions>=0.4.3 in /usr/local/lib/python3.7/dist-packages (from mypy->DALL-E->dalle-pytorch) (0.4.3)\n",
            "Requirement already satisfied: tomli>=1.1.0 in /usr/local/lib/python3.7/dist-packages (from mypy->DALL-E->dalle-pytorch) (2.0.1)\n",
            "Requirement already satisfied: six>=1.10.0 in /usr/local/lib/python3.7/dist-packages (from pytest->DALL-E->dalle-pytorch) (1.15.0)\n",
            "Requirement already satisfied: setuptools in /usr/local/lib/python3.7/dist-packages (from pytest->DALL-E->dalle-pytorch) (59.5.0)\n",
            "Requirement already satisfied: atomicwrites>=1.0 in /usr/local/lib/python3.7/dist-packages (from pytest->DALL-E->dalle-pytorch) (1.4.0)\n",
            "Requirement already satisfied: more-itertools>=4.0.0 in /usr/local/lib/python3.7/dist-packages (from pytest->DALL-E->dalle-pytorch) (8.12.0)\n",
            "Requirement already satisfied: py>=1.5.0 in /usr/local/lib/python3.7/dist-packages (from pytest->DALL-E->dalle-pytorch) (1.11.0)\n",
            "Requirement already satisfied: pluggy<0.8,>=0.5 in /usr/local/lib/python3.7/dist-packages (from pytest->DALL-E->dalle-pytorch) (0.7.1)\n",
            "Requirement already satisfied: attrs>=17.4.0 in /usr/local/lib/python3.7/dist-packages (from pytest->DALL-E->dalle-pytorch) (21.4.0)\n",
            "Requirement already satisfied: idna<3,>=2.5 in /usr/local/lib/python3.7/dist-packages (from requests->DALL-E->dalle-pytorch) (2.10)\n",
            "Requirement already satisfied: certifi>=2017.4.17 in /usr/local/lib/python3.7/dist-packages (from requests->DALL-E->dalle-pytorch) (2021.10.8)\n",
            "Requirement already satisfied: chardet<4,>=3.0.2 in /usr/local/lib/python3.7/dist-packages (from requests->DALL-E->dalle-pytorch) (3.0.4)\n",
            "Requirement already satisfied: omegaconf>=2.0.0 in /usr/local/lib/python3.7/dist-packages (from taming-transformers-rom1504->dalle-pytorch) (2.1.1)\n",
            "Requirement already satisfied: pytorch-lightning>=1.0.8 in /usr/local/lib/python3.7/dist-packages (from taming-transformers-rom1504->dalle-pytorch) (1.5.10)\n",
            "Requirement already satisfied: antlr4-python3-runtime==4.8 in /usr/local/lib/python3.7/dist-packages (from omegaconf>=2.0.0->taming-transformers-rom1504->dalle-pytorch) (4.8)\n",
            "Requirement already satisfied: PyYAML>=5.1.0 in /usr/local/lib/python3.7/dist-packages (from omegaconf>=2.0.0->taming-transformers-rom1504->dalle-pytorch) (6.0)\n",
            "Requirement already satisfied: pyDeprecate==0.3.1 in /usr/local/lib/python3.7/dist-packages (from pytorch-lightning>=1.0.8->taming-transformers-rom1504->dalle-pytorch) (0.3.1)\n",
            "Requirement already satisfied: packaging>=17.0 in /usr/local/lib/python3.7/dist-packages (from pytorch-lightning>=1.0.8->taming-transformers-rom1504->dalle-pytorch) (21.3)\n",
            "Requirement already satisfied: torchmetrics>=0.4.1 in /usr/local/lib/python3.7/dist-packages (from pytorch-lightning>=1.0.8->taming-transformers-rom1504->dalle-pytorch) (0.7.2)\n",
            "Requirement already satisfied: future>=0.17.1 in /usr/local/lib/python3.7/dist-packages (from pytorch-lightning>=1.0.8->taming-transformers-rom1504->dalle-pytorch) (0.18.2)\n",
            "Requirement already satisfied: fsspec[http]!=2021.06.0,>=2021.05.0 in /usr/local/lib/python3.7/dist-packages (from pytorch-lightning>=1.0.8->taming-transformers-rom1504->dalle-pytorch) (2022.2.0)\n",
            "Requirement already satisfied: tensorboard>=2.2.0 in /usr/local/lib/python3.7/dist-packages (from pytorch-lightning>=1.0.8->taming-transformers-rom1504->dalle-pytorch) (2.8.0)\n",
            "Requirement already satisfied: aiohttp in /usr/local/lib/python3.7/dist-packages (from fsspec[http]!=2021.06.0,>=2021.05.0->pytorch-lightning>=1.0.8->taming-transformers-rom1504->dalle-pytorch) (3.8.1)\n",
            "Requirement already satisfied: pyparsing!=3.0.5,>=2.0.2 in /usr/local/lib/python3.7/dist-packages (from packaging>=17.0->pytorch-lightning>=1.0.8->taming-transformers-rom1504->dalle-pytorch) (3.0.7)\n",
            "Requirement already satisfied: markdown>=2.6.8 in /usr/local/lib/python3.7/dist-packages (from tensorboard>=2.2.0->pytorch-lightning>=1.0.8->taming-transformers-rom1504->dalle-pytorch) (3.3.6)\n",
            "Requirement already satisfied: google-auth<3,>=1.6.3 in /usr/local/lib/python3.7/dist-packages (from tensorboard>=2.2.0->pytorch-lightning>=1.0.8->taming-transformers-rom1504->dalle-pytorch) (1.35.0)\n",
            "Requirement already satisfied: google-auth-oauthlib<0.5,>=0.4.1 in /usr/local/lib/python3.7/dist-packages (from tensorboard>=2.2.0->pytorch-lightning>=1.0.8->taming-transformers-rom1504->dalle-pytorch) (0.4.6)\n",
            "Requirement already satisfied: tensorboard-plugin-wit>=1.6.0 in /usr/local/lib/python3.7/dist-packages (from tensorboard>=2.2.0->pytorch-lightning>=1.0.8->taming-transformers-rom1504->dalle-pytorch) (1.8.1)\n",
            "Requirement already satisfied: grpcio>=1.24.3 in /usr/local/lib/python3.7/dist-packages (from tensorboard>=2.2.0->pytorch-lightning>=1.0.8->taming-transformers-rom1504->dalle-pytorch) (1.43.0)\n",
            "Requirement already satisfied: tensorboard-data-server<0.7.0,>=0.6.0 in /usr/local/lib/python3.7/dist-packages (from tensorboard>=2.2.0->pytorch-lightning>=1.0.8->taming-transformers-rom1504->dalle-pytorch) (0.6.1)\n",
            "Requirement already satisfied: werkzeug>=0.11.15 in /usr/local/lib/python3.7/dist-packages (from tensorboard>=2.2.0->pytorch-lightning>=1.0.8->taming-transformers-rom1504->dalle-pytorch) (1.0.1)\n",
            "Requirement already satisfied: absl-py>=0.4 in /usr/local/lib/python3.7/dist-packages (from tensorboard>=2.2.0->pytorch-lightning>=1.0.8->taming-transformers-rom1504->dalle-pytorch) (1.0.0)\n",
            "Requirement already satisfied: protobuf>=3.6.0 in /usr/local/lib/python3.7/dist-packages (from tensorboard>=2.2.0->pytorch-lightning>=1.0.8->taming-transformers-rom1504->dalle-pytorch) (3.17.3)\n",
            "Requirement already satisfied: wheel>=0.26 in /usr/local/lib/python3.7/dist-packages (from tensorboard>=2.2.0->pytorch-lightning>=1.0.8->taming-transformers-rom1504->dalle-pytorch) (0.37.1)\n",
            "Requirement already satisfied: cachetools<5.0,>=2.0.0 in /usr/local/lib/python3.7/dist-packages (from google-auth<3,>=1.6.3->tensorboard>=2.2.0->pytorch-lightning>=1.0.8->taming-transformers-rom1504->dalle-pytorch) (4.2.4)\n",
            "Requirement already satisfied: rsa<5,>=3.1.4 in /usr/local/lib/python3.7/dist-packages (from google-auth<3,>=1.6.3->tensorboard>=2.2.0->pytorch-lightning>=1.0.8->taming-transformers-rom1504->dalle-pytorch) (4.8)\n",
            "Requirement already satisfied: pyasn1-modules>=0.2.1 in /usr/local/lib/python3.7/dist-packages (from google-auth<3,>=1.6.3->tensorboard>=2.2.0->pytorch-lightning>=1.0.8->taming-transformers-rom1504->dalle-pytorch) (0.2.8)\n",
            "Requirement already satisfied: requests-oauthlib>=0.7.0 in /usr/local/lib/python3.7/dist-packages (from google-auth-oauthlib<0.5,>=0.4.1->tensorboard>=2.2.0->pytorch-lightning>=1.0.8->taming-transformers-rom1504->dalle-pytorch) (1.3.1)\n",
            "Requirement already satisfied: importlib-metadata>=4.4 in /usr/local/lib/python3.7/dist-packages (from markdown>=2.6.8->tensorboard>=2.2.0->pytorch-lightning>=1.0.8->taming-transformers-rom1504->dalle-pytorch) (4.11.1)\n",
            "Requirement already satisfied: zipp>=0.5 in /usr/local/lib/python3.7/dist-packages (from importlib-metadata>=4.4->markdown>=2.6.8->tensorboard>=2.2.0->pytorch-lightning>=1.0.8->taming-transformers-rom1504->dalle-pytorch) (3.7.0)\n",
            "Requirement already satisfied: pyasn1<0.5.0,>=0.4.6 in /usr/local/lib/python3.7/dist-packages (from pyasn1-modules>=0.2.1->google-auth<3,>=1.6.3->tensorboard>=2.2.0->pytorch-lightning>=1.0.8->taming-transformers-rom1504->dalle-pytorch) (0.4.8)\n",
            "Requirement already satisfied: oauthlib>=3.0.0 in /usr/local/lib/python3.7/dist-packages (from requests-oauthlib>=0.7.0->google-auth-oauthlib<0.5,>=0.4.1->tensorboard>=2.2.0->pytorch-lightning>=1.0.8->taming-transformers-rom1504->dalle-pytorch) (3.2.0)\n",
            "Requirement already satisfied: async-timeout<5.0,>=4.0.0a3 in /usr/local/lib/python3.7/dist-packages (from aiohttp->fsspec[http]!=2021.06.0,>=2021.05.0->pytorch-lightning>=1.0.8->taming-transformers-rom1504->dalle-pytorch) (4.0.2)\n",
            "Requirement already satisfied: yarl<2.0,>=1.0 in /usr/local/lib/python3.7/dist-packages (from aiohttp->fsspec[http]!=2021.06.0,>=2021.05.0->pytorch-lightning>=1.0.8->taming-transformers-rom1504->dalle-pytorch) (1.7.2)\n",
            "Requirement already satisfied: charset-normalizer<3.0,>=2.0 in /usr/local/lib/python3.7/dist-packages (from aiohttp->fsspec[http]!=2021.06.0,>=2021.05.0->pytorch-lightning>=1.0.8->taming-transformers-rom1504->dalle-pytorch) (2.0.12)\n",
            "Requirement already satisfied: multidict<7.0,>=4.5 in /usr/local/lib/python3.7/dist-packages (from aiohttp->fsspec[http]!=2021.06.0,>=2021.05.0->pytorch-lightning>=1.0.8->taming-transformers-rom1504->dalle-pytorch) (6.0.2)\n",
            "Requirement already satisfied: frozenlist>=1.1.1 in /usr/local/lib/python3.7/dist-packages (from aiohttp->fsspec[http]!=2021.06.0,>=2021.05.0->pytorch-lightning>=1.0.8->taming-transformers-rom1504->dalle-pytorch) (1.3.0)\n",
            "Requirement already satisfied: asynctest==0.13.0 in /usr/local/lib/python3.7/dist-packages (from aiohttp->fsspec[http]!=2021.06.0,>=2021.05.0->pytorch-lightning>=1.0.8->taming-transformers-rom1504->dalle-pytorch) (0.13.0)\n",
            "Requirement already satisfied: aiosignal>=1.1.2 in /usr/local/lib/python3.7/dist-packages (from aiohttp->fsspec[http]!=2021.06.0,>=2021.05.0->pytorch-lightning>=1.0.8->taming-transformers-rom1504->dalle-pytorch) (1.2.0)\n",
            "Requirement already satisfied: sacremoses in /usr/local/lib/python3.7/dist-packages (from transformers->dalle-pytorch) (0.0.47)\n",
            "Requirement already satisfied: huggingface-hub<1.0,>=0.1.0 in /usr/local/lib/python3.7/dist-packages (from transformers->dalle-pytorch) (0.4.0)\n",
            "Requirement already satisfied: joblib in /usr/local/lib/python3.7/dist-packages (from sacremoses->transformers->dalle-pytorch) (1.1.0)\n",
            "Requirement already satisfied: click in /usr/local/lib/python3.7/dist-packages (from sacremoses->transformers->dalle-pytorch) (7.1.2)\n",
            "Requirement already satisfied: braceexpand in /usr/local/lib/python3.7/dist-packages (from WebDataset->dalle-pytorch) (0.1.7)\n",
            "Reading package lists... Done\n",
            "Building dependency tree       \n",
            "Reading state information... Done\n",
            "libcairo2-dev is already the newest version (1.15.10-2ubuntu0.1).\n",
            "The following package was automatically installed and is no longer required:\n",
            "  libnvidia-common-470\n",
            "Use 'apt autoremove' to remove it.\n",
            "0 upgraded, 0 newly installed, 0 to remove and 39 not upgraded.\n",
            "Requirement already satisfied: pycairo in /usr/local/lib/python3.7/dist-packages (1.20.1)\n",
            "ERROR: unknown command \"instal\" - maybe you meant \"install\"\n"
          ]
        }
      ],
      "source": [
        "# !pip install DALL-E\n",
        "!pip install dalle-pytorch --upgrade\n",
        "!apt install libcairo2-dev\n",
        "!pip install pycairo\n",
        "!pip instal pyyaml"
      ]
    },
    {
      "cell_type": "code",
      "source": [
        "%load_ext autoreload\n",
        "%autoreload 2"
      ],
      "metadata": {
        "id": "CyjRukvqpSxn"
      },
      "execution_count": null,
      "outputs": []
    },
    {
      "cell_type": "code",
      "source": [
        "import numpy as np\n",
        "import pandas as pd\n",
        "import matplotlib.pyplot as plt\n",
        "import requests\n",
        "import cv2\n",
        "import torch\n",
        "from google.colab import drive\n",
        "import PIL\n",
        "import io\n",
        "from tqdm.autonotebook import tqdm, trange\n",
        "import os\n",
        "\n",
        "import urllib3\n",
        "from bs4 import BeautifulSoup as bs\n",
        "import requests\n",
        "\n",
        "import torch.nn.functional as F\n",
        "import torchvision.transforms as T\n",
        "import torchvision.transforms.functional as TF\n",
        "\n",
        "from IPython.display import display, display_markdown\n",
        "\n",
        "from dall_e import map_pixels, unmap_pixels, load_model\n",
        "\n",
        "from dalle_pytorch import DiscreteVAE, DALLE"
      ],
      "metadata": {
        "id": "qRvSnY8O3ofL"
      },
      "execution_count": null,
      "outputs": []
    },
    {
      "cell_type": "code",
      "source": [
        "target_image_size = 256\n",
        "\n",
        "def png_to_jpg(img_path):\n",
        "  im1 = PIL.Image.open(img_path)\n",
        "  rgb_im1 = im1.convert('RGB')\n",
        "  rgb_im1.save(str(img_path)[:-4] + '.jpg')\n",
        "\n",
        "def download_image(url):\n",
        "    return PIL.Image.open(url)\n",
        "\n",
        "def preprocess(img):\n",
        "    s = min(img.size)\n",
        "    \n",
        "    # if s < target_image_size:\n",
        "    #     raise ValueError(f'min dim for image {s} < {target_image_size}')\n",
        "        \n",
        "    r = target_image_size / s\n",
        "    s = (round(r * img.size[1]), round(r * img.size[0]))\n",
        "    img = TF.resize(img, s, interpolation=PIL.Image.LANCZOS)\n",
        "    img = TF.center_crop(img, output_size=2 * [target_image_size])\n",
        "    # img = torch.unsqueeze(T.ToTensor()(img), 0)\n",
        "    return T.ToTensor() (img)"
      ],
      "metadata": {
        "id": "Z9l52m7pe9tY"
      },
      "execution_count": null,
      "outputs": []
    },
    {
      "cell_type": "markdown",
      "source": [
        "## Text collection for Data\n",
        "\n"
      ],
      "metadata": {
        "id": "2WeqcriDqOzZ"
      }
    },
    {
      "cell_type": "code",
      "source": [
        "url = \"https://genshin-impact.fandom.com/wiki/Characters\""
      ],
      "metadata": {
        "id": "WP13sLlWqc3c"
      },
      "execution_count": null,
      "outputs": []
    },
    {
      "cell_type": "code",
      "source": [
        "# Used to make the request to open page\n",
        "uClient = urllib3.PoolManager()\n",
        "# get the informaiton form the page\n",
        "getPage = uClient.request('GET', url)\n",
        "# storing the html page source data\n",
        "pageInfo = getPage.data\n",
        "\n",
        "# using the beautiful soup object\n",
        "soup = bs(pageInfo, 'lxml')"
      ],
      "metadata": {
        "id": "SGSVNyZfqOb2"
      },
      "execution_count": null,
      "outputs": []
    },
    {
      "cell_type": "code",
      "source": [
        "# find all the tables with the given class name\n",
        "char_tables = soup.find_all(\"table\", attrs={\"class\": \"article-table sortable\"})\n",
        "char_info = char_tables[0]\n",
        "char_info = char_info.find_all(\"tr\")\n",
        "char_info = char_info[1:len(char_info)]"
      ],
      "metadata": {
        "id": "E1wwKg2Rt6Bz"
      },
      "execution_count": null,
      "outputs": []
    },
    {
      "cell_type": "code",
      "source": [
        "for tr in char_info:\n",
        "  print(len(tr.find_all('td')))"
      ],
      "metadata": {
        "colab": {
          "base_uri": "https://localhost:8080/"
        },
        "id": "I4K5IEg954Af",
        "outputId": "d85da0e3-4067-4096-80b5-43ed69b71618"
      },
      "execution_count": null,
      "outputs": [
        {
          "output_type": "stream",
          "name": "stdout",
          "text": [
            "6\n",
            "6\n",
            "6\n",
            "6\n",
            "6\n",
            "6\n",
            "6\n",
            "6\n",
            "6\n",
            "6\n",
            "6\n",
            "6\n",
            "6\n",
            "6\n",
            "6\n",
            "6\n",
            "6\n",
            "6\n",
            "6\n",
            "6\n",
            "6\n",
            "6\n",
            "6\n",
            "6\n",
            "6\n",
            "6\n",
            "6\n",
            "6\n",
            "6\n",
            "6\n",
            "6\n",
            "6\n",
            "6\n",
            "6\n",
            "6\n",
            "6\n",
            "6\n",
            "6\n",
            "6\n",
            "6\n",
            "6\n",
            "6\n",
            "6\n",
            "6\n",
            "6\n",
            "6\n",
            "6\n"
          ]
        }
      ]
    },
    {
      "cell_type": "code",
      "source": [
        "print(char_info[0].find_all('td')[1:6])"
      ],
      "metadata": {
        "colab": {
          "base_uri": "https://localhost:8080/"
        },
        "id": "7HZxhVw4CnGS",
        "outputId": "2213f397-6123-4956-8e02-ea928d170626"
      },
      "execution_count": null,
      "outputs": [
        {
          "output_type": "stream",
          "name": "stdout",
          "text": [
            "[<td><a href=\"/wiki/Albedo\" title=\"Albedo\">Albedo</a>\n",
            "</td>, <td><img alt=\"5 Stars\" class=\"lazyload\" data-image-key=\"Icon_5_Stars.png\" data-image-name=\"Icon 5 Stars.png\" data-src=\"https://static.wikia.nocookie.net/gensin-impact/images/2/2b/Icon_5_Stars.png/revision/latest/scale-to-width-down/63?cb=20201226100736\" decoding=\"async\" height=\"16\" src=\"data:image/gif;base64,R0lGODlhAQABAIABAAAAAP///yH5BAEAAAEALAAAAAABAAEAQAICTAEAOw%3D%3D\" title=\"5 Stars\" width=\"63\"/>\n",
            "</td>, <td><span style=\"white-space:nowrap;\"><a href=\"/wiki/Geo\" title=\"Geo\"><img alt=\"Element Geo.png\" class=\"lazyload\" data-image-key=\"Element_Geo.png\" data-image-name=\"Element Geo.png\" data-src=\"https://static.wikia.nocookie.net/gensin-impact/images/4/4a/Element_Geo.png/revision/latest/scale-to-width-down/20?cb=20201116063036\" decoding=\"async\" height=\"20\" src=\"data:image/gif;base64,R0lGODlhAQABAIABAAAAAP///yH5BAEAAAEALAAAAAABAAEAQAICTAEAOw%3D%3D\" width=\"20\"/></a> <a href=\"/wiki/Geo\" title=\"Geo\">Geo</a></span>\n",
            "</td>, <td><span style=\"white-space:nowrap;\"><a href=\"/wiki/Sword\" title=\"Sword\"><img alt=\"Weapon-class-sword-icon.png\" class=\"lazyload\" data-image-key=\"Weapon-class-sword-icon.png\" data-image-name=\"Weapon-class-sword-icon.png\" data-src=\"https://static.wikia.nocookie.net/gensin-impact/images/9/95/Weapon-class-sword-icon.png/revision/latest/scale-to-width-down/20?cb=20210716225833\" decoding=\"async\" height=\"20\" src=\"data:image/gif;base64,R0lGODlhAQABAIABAAAAAP///yH5BAEAAAEALAAAAAABAAEAQAICTAEAOw%3D%3D\" width=\"20\"/></a> <a class=\"mw-redirect\" href=\"/wiki/Sword\" title=\"Sword\">Sword</a></span>\n",
            "</td>, <td><a href=\"/wiki/Mondstadt\" title=\"Mondstadt\">Mondstadt</a>\n",
            "</td>]\n"
          ]
        }
      ]
    },
    {
      "cell_type": "code",
      "source": [
        "# get text data for each of the characters\n",
        "text = []\n",
        "count = 0\n",
        "for tr in char_info:\n",
        "  char_tings = tr.find_all('td')[1:6]\n",
        "  name = char_tings[0].a.text\n",
        "  if name == \"Traveler\":\n",
        "    continue\n",
        "  rarity = char_tings[1].img.attrs['alt']\n",
        "  element = char_tings[2].a.attrs['title']\n",
        "  weapon = char_tings[3].a.attrs['title']\n",
        "  clan = ''\n",
        "  if char_tings[4].find('a') == None:\n",
        "    clan = \"nowhere\"\n",
        "  else:\n",
        "    clan = char_tings[4].a.text\n",
        "    \n",
        "  text.append(f\"A waifu named {name} with {rarity} {element} {weapon} {clan}\")\n",
        "  \n",
        "for t in text:\n",
        "  print(t)"
      ],
      "metadata": {
        "colab": {
          "base_uri": "https://localhost:8080/"
        },
        "id": "ayy555Unqtec",
        "outputId": "8e03b723-97df-49ea-c514-d3988243859c"
      },
      "execution_count": null,
      "outputs": [
        {
          "output_type": "stream",
          "name": "stdout",
          "text": [
            "A waifu named Albedo with 5 Stars Geo Sword Mondstadt\n",
            "A waifu named Aloy with 5 Stars Cryo Bow nowhere\n",
            "A waifu named Amber with 4 Stars Pyro Bow Mondstadt\n",
            "A waifu named Arataki Itto with 5 Stars Geo Claymore Inazuma\n",
            "A waifu named Barbara with 4 Stars Hydro Catalyst Mondstadt\n",
            "A waifu named Beidou with 4 Stars Electro Claymore Liyue\n",
            "A waifu named Bennett with 4 Stars Pyro Sword Mondstadt\n",
            "A waifu named Chongyun with 4 Stars Cryo Claymore Liyue\n",
            "A waifu named Diluc with 5 Stars Pyro Claymore Mondstadt\n",
            "A waifu named Diona with 4 Stars Cryo Bow Mondstadt\n",
            "A waifu named Eula with 5 Stars Cryo Claymore Mondstadt\n",
            "A waifu named Fischl with 4 Stars Electro Bow Mondstadt\n",
            "A waifu named Ganyu with 5 Stars Cryo Bow Liyue\n",
            "A waifu named Gorou with 4 Stars Geo Bow Inazuma\n",
            "A waifu named Hu Tao with 5 Stars Pyro Polearm Liyue\n",
            "A waifu named Jean with 5 Stars Anemo Sword Mondstadt\n",
            "A waifu named Kaedehara Kazuha with 5 Stars Anemo Sword Inazuma\n",
            "A waifu named Kaeya with 4 Stars Cryo Sword Mondstadt\n",
            "A waifu named Kamisato Ayaka with 5 Stars Cryo Sword Inazuma\n",
            "A waifu named Keqing with 5 Stars Electro Sword Liyue\n",
            "A waifu named Klee with 5 Stars Pyro Catalyst Mondstadt\n",
            "A waifu named Kujou Sara with 4 Stars Electro Bow Inazuma\n",
            "A waifu named Lisa with 4 Stars Electro Catalyst Mondstadt\n",
            "A waifu named Mona with 5 Stars Hydro Catalyst Mondstadt\n",
            "A waifu named Ningguang with 4 Stars Geo Catalyst Liyue\n",
            "A waifu named Noelle with 4 Stars Geo Claymore Mondstadt\n",
            "A waifu named Qiqi with 5 Stars Cryo Sword Liyue\n",
            "A waifu named Raiden Shogun with 5 Stars Electro Polearm Inazuma\n",
            "A waifu named Razor with 4 Stars Electro Claymore Mondstadt\n",
            "A waifu named Rosaria with 4 Stars Cryo Polearm Mondstadt\n",
            "A waifu named Sangonomiya Kokomi with 5 Stars Hydro Catalyst Inazuma\n",
            "A waifu named Sayu with 4 Stars Anemo Claymore Inazuma\n",
            "A waifu named Shenhe with 5 Stars Cryo Polearm Liyue\n",
            "A waifu named Sucrose with 4 Stars Anemo Catalyst Mondstadt\n",
            "A waifu named Tartaglia with 5 Stars Hydro Bow Snezhnaya\n",
            "A waifu named Thoma with 4 Stars Pyro Polearm Inazuma\n",
            "A waifu named Venti with 5 Stars Anemo Bow Mondstadt\n",
            "A waifu named Xiangling with 4 Stars Pyro Polearm Liyue\n",
            "A waifu named Xiao with 5 Stars Anemo Polearm Liyue\n",
            "A waifu named Xingqiu with 4 Stars Hydro Sword Liyue\n",
            "A waifu named Xinyan with 4 Stars Pyro Claymore Liyue\n",
            "A waifu named Yae Miko with 5 Stars Electro Catalyst Inazuma\n",
            "A waifu named Yanfei with 4 Stars Pyro Catalyst Liyue\n",
            "A waifu named Yoimiya with 5 Stars Pyro Bow Inazuma\n",
            "A waifu named Yun Jin with 4 Stars Geo Polearm Liyue\n",
            "A waifu named Zhongli with 5 Stars Geo Polearm Liyue\n"
          ]
        }
      ]
    },
    {
      "cell_type": "code",
      "source": [
        "# This can be changed to a GPU, e.g. 'cuda:0'.\n",
        "dev = torch.device('cuda:0')\n",
        "print(dev)\n",
        "drive.mount('/content/gdrive')"
      ],
      "metadata": {
        "colab": {
          "base_uri": "https://localhost:8080/"
        },
        "id": "q0VU82yN-Lb4",
        "outputId": "29db8ef4-81d3-451d-d588-ba05f5cf5b9a"
      },
      "execution_count": null,
      "outputs": [
        {
          "output_type": "stream",
          "name": "stdout",
          "text": [
            "cuda:0\n",
            "Mounted at /content/gdrive\n"
          ]
        }
      ]
    },
    {
      "cell_type": "markdown",
      "source": [
        "## Image processing"
      ],
      "metadata": {
        "id": "5SmXPT5A5vht"
      }
    },
    {
      "cell_type": "code",
      "source": [
        "# read in images\n",
        "from pathlib import Path\n",
        "otaku_path = Path(\"/content/gdrive/MyDrive/otaku_database\")"
      ],
      "metadata": {
        "id": "Ds3VN0x5-IOx"
      },
      "execution_count": null,
      "outputs": []
    },
    {
      "cell_type": "code",
      "source": [
        "# don't have to run this anymore\n",
        "for category in ['Portrait', 'Game']:\n",
        "  for image in otaku_path.glob(f\"Otaku_*_{category}.png\"):\n",
        "    png_to_jpg(image)"
      ],
      "metadata": {
        "id": "3AehLLjiiCYM"
      },
      "execution_count": null,
      "outputs": []
    },
    {
      "cell_type": "code",
      "source": [
        "# read in images\n",
        "imgs = [preprocess(download_image(image)) for category in ['Portrait', 'Game'] for image in otaku_path.glob(f\"Otaku_*_{category}.jpg\")]\n",
        "len(imgs), imgs[0].shape\n",
        "imgs[0]"
      ],
      "metadata": {
        "id": "rNxOqpfDCug6",
        "colab": {
          "base_uri": "https://localhost:8080/"
        },
        "outputId": "24b00ddd-6c40-4c25-d7c5-8f4e8e041119"
      },
      "execution_count": null,
      "outputs": [
        {
          "output_type": "stream",
          "name": "stderr",
          "text": [
            "/usr/local/lib/python3.7/dist-packages/torchvision/transforms/functional.py:405: UserWarning: Argument interpolation should be of type InterpolationMode instead of int. Please, use InterpolationMode enum.\n",
            "  \"Argument interpolation should be of type InterpolationMode instead of int. \"\n"
          ]
        },
        {
          "output_type": "execute_result",
          "data": {
            "text/plain": [
              "tensor([[[0., 0., 0.,  ..., 0., 0., 0.],\n",
              "         [0., 0., 0.,  ..., 0., 0., 0.],\n",
              "         [0., 0., 0.,  ..., 0., 0., 0.],\n",
              "         ...,\n",
              "         [0., 0., 0.,  ..., 0., 0., 0.],\n",
              "         [0., 0., 0.,  ..., 0., 0., 0.],\n",
              "         [0., 0., 0.,  ..., 0., 0., 0.]],\n",
              "\n",
              "        [[0., 0., 0.,  ..., 0., 0., 0.],\n",
              "         [0., 0., 0.,  ..., 0., 0., 0.],\n",
              "         [0., 0., 0.,  ..., 0., 0., 0.],\n",
              "         ...,\n",
              "         [0., 0., 0.,  ..., 0., 0., 0.],\n",
              "         [0., 0., 0.,  ..., 0., 0., 0.],\n",
              "         [0., 0., 0.,  ..., 0., 0., 0.]],\n",
              "\n",
              "        [[0., 0., 0.,  ..., 0., 0., 0.],\n",
              "         [0., 0., 0.,  ..., 0., 0., 0.],\n",
              "         [0., 0., 0.,  ..., 0., 0., 0.],\n",
              "         ...,\n",
              "         [0., 0., 0.,  ..., 0., 0., 0.],\n",
              "         [0., 0., 0.,  ..., 0., 0., 0.],\n",
              "         [0., 0., 0.,  ..., 0., 0., 0.]]])"
            ]
          },
          "metadata": {},
          "execution_count": 16
        }
      ]
    },
    {
      "cell_type": "code",
      "source": [
        "to_disp = [cv2.imread(str(image)) for category in ['Portrait', 'Game'] for image in otaku_path.glob(f\"Otaku_*_{category}.jpg\")]\n",
        "plt.imshow(to_disp[0])\n",
        "to_disp[1].shape"
      ],
      "metadata": {
        "colab": {
          "base_uri": "https://localhost:8080/",
          "height": 287
        },
        "id": "tIfiDPu-Dybi",
        "outputId": "7fe05a58-82c3-45dd-e6fe-ae2660a0992c"
      },
      "execution_count": null,
      "outputs": [
        {
          "output_type": "execute_result",
          "data": {
            "text/plain": [
              "(499, 332, 3)"
            ]
          },
          "metadata": {},
          "execution_count": 17
        },
        {
          "output_type": "display_data",
          "data": {
            "image/png": "[encoded data removed]",
            "text/plain": [
              "<Figure size 432x288 with 1 Axes>"
            ]
          },
          "metadata": {
            "needs_background": "light"
          }
        }
      ]
    },
    {
      "cell_type": "markdown",
      "source": [
        "# DALL-E Model from the paper"
      ],
      "metadata": {
        "id": "-5LkA9-3gN7h"
      }
    },
    {
      "cell_type": "code",
      "source": [
        "# For faster load times, download these files locally and use the local paths instead.\n",
        "enc = load_model(\"https://cdn.openai.com/dall-e/encoder.pkl\", dev)\n",
        "dec = load_model(\"https://cdn.openai.com/dall-e/decoder.pkl\", dev)\n"
      ],
      "metadata": {
        "id": "VPSKfY0S-QEH"
      },
      "execution_count": null,
      "outputs": []
    },
    {
      "cell_type": "code",
      "source": [
        "print(dec)"
      ],
      "metadata": {
        "id": "yvxjHK7bo9tY"
      },
      "execution_count": null,
      "outputs": []
    },
    {
      "cell_type": "code",
      "source": [
        "z_logits = enc(imgs[0])"
      ],
      "metadata": {
        "id": "7s4tnwYPSWbv"
      },
      "execution_count": null,
      "outputs": []
    },
    {
      "cell_type": "code",
      "source": [
        "z = torch.argmax(z_logits, axis=1)\n",
        "z = F.one_hot(z, num_classes=enc.vocab_size).permute(0, 3, 1, 2).float()\n",
        "\n",
        "x_stats = dec(z).float()\n",
        "x_rec = unmap_pixels(torch.sigmoid(x_stats[:, :3]))\n",
        "x_rec = T.ToPILImage(mode='RGB')(x_rec[0])\n",
        "\n",
        "display_markdown('Reconstructed image:')\n",
        "display(x_rec)"
      ],
      "metadata": {
        "id": "nrxwxq0mSfzB"
      },
      "execution_count": null,
      "outputs": []
    },
    {
      "cell_type": "markdown",
      "source": [
        "# Separate DALL-E implementation"
      ],
      "metadata": {
        "id": "87Mtca-egSgC"
      }
    },
    {
      "cell_type": "markdown",
      "source": [
        "## Last minute pre-processing"
      ],
      "metadata": {
        "id": "pZ6TxGa8U_ch"
      }
    },
    {
      "cell_type": "markdown",
      "source": [
        "### Captions"
      ],
      "metadata": {
        "id": "yrgULIfxV7hj"
      }
    },
    {
      "cell_type": "code",
      "source": [
        "captions = [word.split() for word in text]\n",
        "captions[1]"
      ],
      "metadata": {
        "colab": {
          "base_uri": "https://localhost:8080/"
        },
        "id": "R0GwGiRLQ1zp",
        "outputId": "7d87e8a3-fb94-4557-a5be-10c501e2ef60"
      },
      "execution_count": null,
      "outputs": [
        {
          "output_type": "execute_result",
          "data": {
            "text/plain": [
              "['A', 'waifu', 'named', 'Aloy', 'with', '5', 'Stars', 'Cryo', 'Bow', 'nowhere']"
            ]
          },
          "metadata": {},
          "execution_count": 18
        }
      ]
    },
    {
      "cell_type": "code",
      "source": [
        "import itertools\n",
        "\n",
        "all_words = list(sorted(frozenset(list(itertools.chain.from_iterable(captions)))))\n",
        "word_tokens = dict(zip(all_words, range(1, len(all_words) + 1)))\n",
        "caption_tokens = [[word_tokens[w] for w in c] for c in captions]\n",
        "caption_tokens"
      ],
      "metadata": {
        "colab": {
          "base_uri": "https://localhost:8080/"
        },
        "id": "1yExYC62VEgT",
        "outputId": "4252231e-3562-4c47-df03-371d880f48c9"
      },
      "execution_count": null,
      "outputs": [
        {
          "output_type": "execute_result",
          "data": {
            "text/plain": [
              "[[3, 77, 75, 4, 78, 2, 59, 24, 61, 44],\n",
              " [3, 77, 75, 5, 78, 2, 59, 17, 13, 76],\n",
              " [3, 77, 75, 6, 78, 1, 59, 48, 13, 44],\n",
              " [3, 77, 75, 8, 29, 78, 2, 59, 24, 16, 28],\n",
              " [3, 77, 75, 10, 78, 1, 59, 27, 14, 44],\n",
              " [3, 77, 75, 11, 78, 1, 59, 20, 16, 41],\n",
              " [3, 77, 75, 12, 78, 1, 59, 48, 61, 44],\n",
              " [3, 77, 75, 15, 78, 1, 59, 17, 16, 41],\n",
              " [3, 77, 75, 18, 78, 2, 59, 48, 16, 44],\n",
              " [3, 77, 75, 19, 78, 1, 59, 17, 13, 44],\n",
              " [3, 77, 75, 21, 78, 2, 59, 17, 16, 44],\n",
              " [3, 77, 75, 22, 78, 1, 59, 20, 13, 44],\n",
              " [3, 77, 75, 23, 78, 2, 59, 17, 13, 41],\n",
              " [3, 77, 75, 25, 78, 1, 59, 24, 13, 28],\n",
              " [3, 77, 75, 26, 62, 78, 2, 59, 48, 47, 41],\n",
              " [3, 77, 75, 30, 78, 2, 59, 7, 61, 44],\n",
              " [3, 77, 75, 32, 35, 78, 2, 59, 7, 61, 28],\n",
              " [3, 77, 75, 33, 78, 1, 59, 17, 61, 44],\n",
              " [3, 77, 75, 34, 9, 78, 2, 59, 17, 61, 28],\n",
              " [3, 77, 75, 36, 78, 2, 59, 20, 61, 41],\n",
              " [3, 77, 75, 37, 78, 2, 59, 48, 14, 44],\n",
              " [3, 77, 75, 39, 54, 78, 1, 59, 20, 13, 28],\n",
              " [3, 77, 75, 40, 78, 1, 59, 20, 14, 44],\n",
              " [3, 77, 75, 43, 78, 2, 59, 27, 14, 44],\n",
              " [3, 77, 75, 45, 78, 1, 59, 24, 14, 41],\n",
              " [3, 77, 75, 46, 78, 1, 59, 24, 16, 44],\n",
              " [3, 77, 75, 49, 78, 2, 59, 17, 61, 41],\n",
              " [3, 77, 75, 50, 57, 78, 2, 59, 20, 47, 28],\n",
              " [3, 77, 75, 51, 78, 1, 59, 20, 16, 44],\n",
              " [3, 77, 75, 52, 78, 1, 59, 17, 47, 44],\n",
              " [3, 77, 75, 53, 38, 78, 2, 59, 27, 14, 28],\n",
              " [3, 77, 75, 55, 78, 1, 59, 7, 16, 28],\n",
              " [3, 77, 75, 56, 78, 2, 59, 17, 47, 41],\n",
              " [3, 77, 75, 60, 78, 1, 59, 7, 14, 44],\n",
              " [3, 77, 75, 63, 78, 2, 59, 27, 13, 58],\n",
              " [3, 77, 75, 64, 78, 1, 59, 48, 47, 28],\n",
              " [3, 77, 75, 65, 78, 2, 59, 7, 13, 44],\n",
              " [3, 77, 75, 66, 78, 1, 59, 48, 47, 41],\n",
              " [3, 77, 75, 67, 78, 2, 59, 7, 47, 41],\n",
              " [3, 77, 75, 68, 78, 1, 59, 27, 61, 41],\n",
              " [3, 77, 75, 69, 78, 1, 59, 48, 16, 41],\n",
              " [3, 77, 75, 70, 42, 78, 2, 59, 20, 14, 28],\n",
              " [3, 77, 75, 71, 78, 1, 59, 48, 14, 41],\n",
              " [3, 77, 75, 72, 78, 2, 59, 48, 13, 28],\n",
              " [3, 77, 75, 73, 31, 78, 1, 59, 24, 47, 41],\n",
              " [3, 77, 75, 74, 78, 2, 59, 24, 47, 41]]"
            ]
          },
          "metadata": {},
          "execution_count": 19
        }
      ]
    },
    {
      "cell_type": "code",
      "source": [
        "longest_caption = max(len(c) for c in captions)\n",
        "captions_array = np.zeros((len(caption_tokens), longest_caption), dtype=np.int64)\n",
        "for i in range(len(caption_tokens)):\n",
        "    captions_array[i, :len(caption_tokens[i])] = caption_tokens[i]\n",
        "    \n",
        "captions_array = torch.from_numpy(captions_array).to(dev)\n",
        "captions_mask = captions_array != 0\n",
        "captions_array"
      ],
      "metadata": {
        "colab": {
          "base_uri": "https://localhost:8080/"
        },
        "id": "VGfEVmeQVFxx",
        "outputId": "5be73be4-009d-4112-a691-52f81d56327c"
      },
      "execution_count": null,
      "outputs": [
        {
          "output_type": "execute_result",
          "data": {
            "text/plain": [
              "tensor([[ 3, 77, 75,  4, 78,  2, 59, 24, 61, 44,  0],\n",
              "        [ 3, 77, 75,  5, 78,  2, 59, 17, 13, 76,  0],\n",
              "        [ 3, 77, 75,  6, 78,  1, 59, 48, 13, 44,  0],\n",
              "        [ 3, 77, 75,  8, 29, 78,  2, 59, 24, 16, 28],\n",
              "        [ 3, 77, 75, 10, 78,  1, 59, 27, 14, 44,  0],\n",
              "        [ 3, 77, 75, 11, 78,  1, 59, 20, 16, 41,  0],\n",
              "        [ 3, 77, 75, 12, 78,  1, 59, 48, 61, 44,  0],\n",
              "        [ 3, 77, 75, 15, 78,  1, 59, 17, 16, 41,  0],\n",
              "        [ 3, 77, 75, 18, 78,  2, 59, 48, 16, 44,  0],\n",
              "        [ 3, 77, 75, 19, 78,  1, 59, 17, 13, 44,  0],\n",
              "        [ 3, 77, 75, 21, 78,  2, 59, 17, 16, 44,  0],\n",
              "        [ 3, 77, 75, 22, 78,  1, 59, 20, 13, 44,  0],\n",
              "        [ 3, 77, 75, 23, 78,  2, 59, 17, 13, 41,  0],\n",
              "        [ 3, 77, 75, 25, 78,  1, 59, 24, 13, 28,  0],\n",
              "        [ 3, 77, 75, 26, 62, 78,  2, 59, 48, 47, 41],\n",
              "        [ 3, 77, 75, 30, 78,  2, 59,  7, 61, 44,  0],\n",
              "        [ 3, 77, 75, 32, 35, 78,  2, 59,  7, 61, 28],\n",
              "        [ 3, 77, 75, 33, 78,  1, 59, 17, 61, 44,  0],\n",
              "        [ 3, 77, 75, 34,  9, 78,  2, 59, 17, 61, 28],\n",
              "        [ 3, 77, 75, 36, 78,  2, 59, 20, 61, 41,  0],\n",
              "        [ 3, 77, 75, 37, 78,  2, 59, 48, 14, 44,  0],\n",
              "        [ 3, 77, 75, 39, 54, 78,  1, 59, 20, 13, 28],\n",
              "        [ 3, 77, 75, 40, 78,  1, 59, 20, 14, 44,  0],\n",
              "        [ 3, 77, 75, 43, 78,  2, 59, 27, 14, 44,  0],\n",
              "        [ 3, 77, 75, 45, 78,  1, 59, 24, 14, 41,  0],\n",
              "        [ 3, 77, 75, 46, 78,  1, 59, 24, 16, 44,  0],\n",
              "        [ 3, 77, 75, 49, 78,  2, 59, 17, 61, 41,  0],\n",
              "        [ 3, 77, 75, 50, 57, 78,  2, 59, 20, 47, 28],\n",
              "        [ 3, 77, 75, 51, 78,  1, 59, 20, 16, 44,  0],\n",
              "        [ 3, 77, 75, 52, 78,  1, 59, 17, 47, 44,  0],\n",
              "        [ 3, 77, 75, 53, 38, 78,  2, 59, 27, 14, 28],\n",
              "        [ 3, 77, 75, 55, 78,  1, 59,  7, 16, 28,  0],\n",
              "        [ 3, 77, 75, 56, 78,  2, 59, 17, 47, 41,  0],\n",
              "        [ 3, 77, 75, 60, 78,  1, 59,  7, 14, 44,  0],\n",
              "        [ 3, 77, 75, 63, 78,  2, 59, 27, 13, 58,  0],\n",
              "        [ 3, 77, 75, 64, 78,  1, 59, 48, 47, 28,  0],\n",
              "        [ 3, 77, 75, 65, 78,  2, 59,  7, 13, 44,  0],\n",
              "        [ 3, 77, 75, 66, 78,  1, 59, 48, 47, 41,  0],\n",
              "        [ 3, 77, 75, 67, 78,  2, 59,  7, 47, 41,  0],\n",
              "        [ 3, 77, 75, 68, 78,  1, 59, 27, 61, 41,  0],\n",
              "        [ 3, 77, 75, 69, 78,  1, 59, 48, 16, 41,  0],\n",
              "        [ 3, 77, 75, 70, 42, 78,  2, 59, 20, 14, 28],\n",
              "        [ 3, 77, 75, 71, 78,  1, 59, 48, 14, 41,  0],\n",
              "        [ 3, 77, 75, 72, 78,  2, 59, 48, 13, 28,  0],\n",
              "        [ 3, 77, 75, 73, 31, 78,  1, 59, 24, 47, 41],\n",
              "        [ 3, 77, 75, 74, 78,  2, 59, 24, 47, 41,  0]], device='cuda:0')"
            ]
          },
          "metadata": {},
          "execution_count": 20
        }
      ]
    },
    {
      "cell_type": "markdown",
      "source": [
        "### Photos"
      ],
      "metadata": {
        "id": "S2SdPiqfV86y"
      }
    },
    {
      "cell_type": "code",
      "source": [
        "images = torch.stack(imgs).to(dev)"
      ],
      "metadata": {
        "id": "lX0_wa_AV-Jw"
      },
      "execution_count": null,
      "outputs": []
    },
    {
      "cell_type": "code",
      "source": [
        "images.shape"
      ],
      "metadata": {
        "colab": {
          "base_uri": "https://localhost:8080/"
        },
        "id": "KGZgvScKXkyx",
        "outputId": "ab5eb0f4-8434-4ec2-fdbf-51567221db21"
      },
      "execution_count": null,
      "outputs": [
        {
          "output_type": "execute_result",
          "data": {
            "text/plain": [
              "torch.Size([92, 3, 256, 256])"
            ]
          },
          "metadata": {},
          "execution_count": 24
        }
      ]
    },
    {
      "cell_type": "markdown",
      "source": [
        "## Training VAE"
      ],
      "metadata": {
        "id": "TmeE7urIKd4g"
      }
    },
    {
      "cell_type": "code",
      "source": [
        "def fit(model, opt, criterion, scheduler, train_x, train_y, epochs, batch_size,\n",
        "        model_file, trainer, n_train_samples=None):\n",
        "    epoch_loss_train = []\n",
        "\n",
        "    if n_train_samples is None:\n",
        "        n_train_samples = train_x.shape[0]\n",
        "\n",
        "    t = trange(epochs)\n",
        "    for _ in t:\n",
        "        rnd_idx = list(range(n_train_samples))\n",
        "        np.random.shuffle(rnd_idx)\n",
        "        losses = []\n",
        "        for batch_idx in range(0, n_train_samples, batch_size):\n",
        "            model.train()\n",
        "            opt.zero_grad()\n",
        "            loss = trainer(model, train_x, train_y, rnd_idx[batch_idx:(batch_idx + batch_size)], criterion)\n",
        "            loss.backward()\n",
        "            losses.append(loss.item())\n",
        "            opt.step()\n",
        "\n",
        "        epoch_loss_train.append(np.mean(losses))\n",
        "        scheduler.step()\n",
        "\n",
        "        t.set_description(f\"train: {epoch_loss_train[-1]:.3f}\")\n",
        "\n",
        "    torch.save(model.state_dict(), model_file)\n",
        "    model.eval()\n",
        "    return model, epoch_loss_train"
      ],
      "metadata": {
        "id": "0ZHAP75FOYfY"
      },
      "execution_count": null,
      "outputs": []
    },
    {
      "cell_type": "code",
      "source": [
        "def train_vae_batch(vae, images, _, idx, __):\n",
        "    loss = vae(images[idx, ...], return_loss = True)\n",
        "    return loss"
      ],
      "metadata": {
        "id": "8CRP-A1TOaSb"
      },
      "execution_count": null,
      "outputs": []
    },
    {
      "cell_type": "code",
      "source": [
        "vae = DiscreteVAE(\n",
        "    image_size = 256,\n",
        "    num_layers = 3,           # number of downsamples - ex. 256 / (2 ** 3) = (32 x 32 feature map)\n",
        "    num_tokens = 8192,        # number of visual tokens. in the paper, they used 8192, but could be smaller for downsized projects\n",
        "    codebook_dim = 512,       # codebook dimension\n",
        "    hidden_dim = 64,          # hidden dimension\n",
        "    num_resnet_blocks = 1,    # number of resnet blocks\n",
        "    temperature = 0.9,        # gumbel softmax temperature, the lower this is, the harder the discretization\n",
        "    straight_through = False, # straight-through for gumbel softmax. unclear if it is better one way or the other\n",
        ").to(dev)\n",
        "\n",
        "opt = torch.optim.Adam(vae.parameters(), lr=0.001, weight_decay=0.0)\n",
        "scheduler = torch.optim.lr_scheduler.ExponentialLR(opt, 0.99)"
      ],
      "metadata": {
        "id": "-1bDI6TJ7z1Z"
      },
      "execution_count": null,
      "outputs": []
    },
    {
      "cell_type": "code",
      "execution_count": null,
      "metadata": {
        "id": "B28wvoeh6yKL"
      },
      "outputs": [],
      "source": [
        "vae_model_file = \"/content/gdrive/MyDrive/otaku_model/otakue_VAE.model\"\n",
        "if not os.path.exists(vae_model_file):\n",
        "    vae, loss_history = fit(vae, opt, None, scheduler, images, None, 16, 16, vae_model_file, train_vae_batch)\n",
        "    plt.plot(loss_history)\n",
        "else:\n",
        "    vae.load_state_dict(torch.load(vae_model_file))"
      ]
    },
    {
      "cell_type": "markdown",
      "source": [
        "## Training DALL-E"
      ],
      "metadata": {
        "id": "XhrApZYLKfo9"
      }
    },
    {
      "cell_type": "code",
      "source": [
        "with torch.no_grad():\n",
        "    all_image_codes = vae.get_codebook_indices(images)\n",
        "    all_images_decoded = vae.decode(all_image_codes)\n",
        "    \n",
        "all_image_codes[np.random.choice(images.shape[0], 10), ...]\n",
        "\n",
        "images.to('cpu')"
      ],
      "metadata": {
        "colab": {
          "base_uri": "https://localhost:8080/"
        },
        "id": "iZuXipLZjEs0",
        "outputId": "396e78bf-ecf9-4e78-8fa6-c36a4a54aeb0"
      },
      "execution_count": null,
      "outputs": [
        {
          "output_type": "execute_result",
          "data": {
            "text/plain": [
              "tensor([[[[0.0000, 0.0000, 0.0000,  ..., 0.0000, 0.0000, 0.0000],\n",
              "          [0.0000, 0.0000, 0.0000,  ..., 0.0000, 0.0000, 0.0000],\n",
              "          [0.0000, 0.0000, 0.0000,  ..., 0.0000, 0.0000, 0.0000],\n",
              "          ...,\n",
              "          [0.0000, 0.0000, 0.0000,  ..., 0.0000, 0.0000, 0.0000],\n",
              "          [0.0000, 0.0000, 0.0000,  ..., 0.0000, 0.0000, 0.0000],\n",
              "          [0.0000, 0.0000, 0.0000,  ..., 0.0000, 0.0000, 0.0000]],\n",
              "\n",
              "         [[0.0000, 0.0000, 0.0000,  ..., 0.0000, 0.0000, 0.0000],\n",
              "          [0.0000, 0.0000, 0.0000,  ..., 0.0000, 0.0000, 0.0000],\n",
              "          [0.0000, 0.0000, 0.0000,  ..., 0.0000, 0.0000, 0.0000],\n",
              "          ...,\n",
              "          [0.0000, 0.0000, 0.0000,  ..., 0.0000, 0.0000, 0.0000],\n",
              "          [0.0000, 0.0000, 0.0000,  ..., 0.0000, 0.0000, 0.0000],\n",
              "          [0.0000, 0.0000, 0.0000,  ..., 0.0000, 0.0000, 0.0000]],\n",
              "\n",
              "         [[0.0000, 0.0000, 0.0000,  ..., 0.0000, 0.0000, 0.0000],\n",
              "          [0.0000, 0.0000, 0.0000,  ..., 0.0000, 0.0000, 0.0000],\n",
              "          [0.0000, 0.0000, 0.0000,  ..., 0.0000, 0.0000, 0.0000],\n",
              "          ...,\n",
              "          [0.0000, 0.0000, 0.0000,  ..., 0.0000, 0.0000, 0.0000],\n",
              "          [0.0000, 0.0000, 0.0000,  ..., 0.0000, 0.0000, 0.0000],\n",
              "          [0.0000, 0.0000, 0.0000,  ..., 0.0000, 0.0000, 0.0000]]],\n",
              "\n",
              "\n",
              "        [[[0.0000, 0.0000, 0.0000,  ..., 0.0000, 0.0000, 0.0000],\n",
              "          [0.0000, 0.0000, 0.0000,  ..., 0.0000, 0.0000, 0.0000],\n",
              "          [0.0000, 0.0000, 0.0000,  ..., 0.0000, 0.0000, 0.0000],\n",
              "          ...,\n",
              "          [0.0000, 0.0000, 0.0000,  ..., 0.0000, 0.0000, 0.0000],\n",
              "          [0.0000, 0.0000, 0.0000,  ..., 0.0000, 0.0000, 0.0000],\n",
              "          [0.0000, 0.0000, 0.0000,  ..., 0.0000, 0.0000, 0.0000]],\n",
              "\n",
              "         [[0.0000, 0.0000, 0.0000,  ..., 0.0000, 0.0000, 0.0000],\n",
              "          [0.0000, 0.0000, 0.0000,  ..., 0.0000, 0.0000, 0.0000],\n",
              "          [0.0000, 0.0000, 0.0000,  ..., 0.0000, 0.0000, 0.0000],\n",
              "          ...,\n",
              "          [0.0000, 0.0000, 0.0000,  ..., 0.0000, 0.0000, 0.0000],\n",
              "          [0.0000, 0.0000, 0.0000,  ..., 0.0000, 0.0000, 0.0000],\n",
              "          [0.0000, 0.0000, 0.0000,  ..., 0.0000, 0.0000, 0.0000]],\n",
              "\n",
              "         [[0.0000, 0.0000, 0.0000,  ..., 0.0000, 0.0000, 0.0000],\n",
              "          [0.0000, 0.0000, 0.0000,  ..., 0.0000, 0.0000, 0.0000],\n",
              "          [0.0000, 0.0000, 0.0000,  ..., 0.0000, 0.0000, 0.0000],\n",
              "          ...,\n",
              "          [0.0000, 0.0000, 0.0000,  ..., 0.0000, 0.0000, 0.0000],\n",
              "          [0.0000, 0.0000, 0.0000,  ..., 0.0000, 0.0000, 0.0000],\n",
              "          [0.0000, 0.0000, 0.0000,  ..., 0.0000, 0.0000, 0.0000]]],\n",
              "\n",
              "\n",
              "        [[[0.0118, 0.0118, 0.0039,  ..., 0.0000, 0.0000, 0.0000],\n",
              "          [0.0118, 0.0118, 0.0039,  ..., 0.0000, 0.0000, 0.0000],\n",
              "          [0.0000, 0.0000, 0.0000,  ..., 0.0000, 0.0000, 0.0000],\n",
              "          ...,\n",
              "          [0.0000, 0.0000, 0.0000,  ..., 0.0000, 0.0000, 0.0000],\n",
              "          [0.0000, 0.0000, 0.0000,  ..., 0.0000, 0.0000, 0.0000],\n",
              "          [0.0000, 0.0000, 0.0000,  ..., 0.0000, 0.0000, 0.0000]],\n",
              "\n",
              "         [[0.0000, 0.0000, 0.0000,  ..., 0.0000, 0.0000, 0.0000],\n",
              "          [0.0000, 0.0000, 0.0000,  ..., 0.0000, 0.0000, 0.0000],\n",
              "          [0.0000, 0.0000, 0.0000,  ..., 0.0000, 0.0000, 0.0000],\n",
              "          ...,\n",
              "          [0.0000, 0.0000, 0.0000,  ..., 0.0000, 0.0000, 0.0000],\n",
              "          [0.0000, 0.0000, 0.0000,  ..., 0.0000, 0.0000, 0.0000],\n",
              "          [0.0000, 0.0000, 0.0000,  ..., 0.0000, 0.0000, 0.0000]],\n",
              "\n",
              "         [[0.0000, 0.0000, 0.0000,  ..., 0.0000, 0.0000, 0.0000],\n",
              "          [0.0000, 0.0000, 0.0000,  ..., 0.0000, 0.0000, 0.0000],\n",
              "          [0.0000, 0.0000, 0.0000,  ..., 0.0000, 0.0000, 0.0000],\n",
              "          ...,\n",
              "          [0.0000, 0.0000, 0.0000,  ..., 0.0000, 0.0000, 0.0000],\n",
              "          [0.0000, 0.0000, 0.0000,  ..., 0.0000, 0.0000, 0.0000],\n",
              "          [0.0000, 0.0000, 0.0000,  ..., 0.0000, 0.0000, 0.0000]]],\n",
              "\n",
              "\n",
              "        ...,\n",
              "\n",
              "\n",
              "        [[[0.0000, 0.0000, 0.0000,  ..., 0.0000, 0.0000, 0.0000],\n",
              "          [0.0000, 0.0000, 0.0000,  ..., 0.0000, 0.0000, 0.0000],\n",
              "          [0.0000, 0.0000, 0.0000,  ..., 0.0000, 0.0000, 0.0000],\n",
              "          ...,\n",
              "          [0.0000, 0.0000, 0.0000,  ..., 0.0000, 0.0000, 0.0000],\n",
              "          [0.0000, 0.0000, 0.0000,  ..., 0.0000, 0.0000, 0.0000],\n",
              "          [0.0000, 0.0000, 0.0000,  ..., 0.0000, 0.0000, 0.0000]],\n",
              "\n",
              "         [[0.0000, 0.0000, 0.0000,  ..., 0.0000, 0.0000, 0.0000],\n",
              "          [0.0000, 0.0000, 0.0000,  ..., 0.0000, 0.0000, 0.0000],\n",
              "          [0.0000, 0.0000, 0.0000,  ..., 0.0000, 0.0000, 0.0000],\n",
              "          ...,\n",
              "          [0.0000, 0.0000, 0.0000,  ..., 0.0000, 0.0000, 0.0000],\n",
              "          [0.0000, 0.0000, 0.0000,  ..., 0.0000, 0.0000, 0.0000],\n",
              "          [0.0000, 0.0000, 0.0000,  ..., 0.0000, 0.0000, 0.0000]],\n",
              "\n",
              "         [[0.0000, 0.0000, 0.0000,  ..., 0.0000, 0.0000, 0.0000],\n",
              "          [0.0000, 0.0000, 0.0000,  ..., 0.0000, 0.0000, 0.0000],\n",
              "          [0.0000, 0.0000, 0.0000,  ..., 0.0000, 0.0000, 0.0000],\n",
              "          ...,\n",
              "          [0.0000, 0.0000, 0.0000,  ..., 0.0000, 0.0000, 0.0000],\n",
              "          [0.0000, 0.0000, 0.0000,  ..., 0.0000, 0.0000, 0.0000],\n",
              "          [0.0000, 0.0000, 0.0000,  ..., 0.0000, 0.0000, 0.0000]]],\n",
              "\n",
              "\n",
              "        [[[0.0000, 0.0000, 0.0000,  ..., 0.0000, 0.0000, 0.0000],\n",
              "          [0.0000, 0.0000, 0.0000,  ..., 0.0000, 0.0000, 0.0000],\n",
              "          [0.0000, 0.0000, 0.0000,  ..., 0.0000, 0.0000, 0.0000],\n",
              "          ...,\n",
              "          [0.0000, 0.0000, 0.0000,  ..., 0.0000, 0.0000, 0.0000],\n",
              "          [0.0000, 0.0000, 0.0000,  ..., 0.0000, 0.0000, 0.0000],\n",
              "          [0.0000, 0.0000, 0.0000,  ..., 0.0000, 0.0000, 0.0000]],\n",
              "\n",
              "         [[0.0000, 0.0000, 0.0000,  ..., 0.0000, 0.0000, 0.0000],\n",
              "          [0.0000, 0.0000, 0.0000,  ..., 0.0000, 0.0000, 0.0000],\n",
              "          [0.0000, 0.0000, 0.0000,  ..., 0.0000, 0.0000, 0.0000],\n",
              "          ...,\n",
              "          [0.0000, 0.0000, 0.0000,  ..., 0.0000, 0.0000, 0.0000],\n",
              "          [0.0000, 0.0000, 0.0000,  ..., 0.0000, 0.0000, 0.0000],\n",
              "          [0.0000, 0.0000, 0.0000,  ..., 0.0000, 0.0000, 0.0000]],\n",
              "\n",
              "         [[0.0000, 0.0000, 0.0000,  ..., 0.0000, 0.0000, 0.0000],\n",
              "          [0.0000, 0.0000, 0.0000,  ..., 0.0000, 0.0000, 0.0000],\n",
              "          [0.0000, 0.0000, 0.0000,  ..., 0.0000, 0.0000, 0.0000],\n",
              "          ...,\n",
              "          [0.0000, 0.0000, 0.0000,  ..., 0.0000, 0.0000, 0.0000],\n",
              "          [0.0000, 0.0000, 0.0000,  ..., 0.0000, 0.0000, 0.0000],\n",
              "          [0.0000, 0.0000, 0.0000,  ..., 0.0000, 0.0000, 0.0000]]],\n",
              "\n",
              "\n",
              "        [[[0.0000, 0.0000, 0.0000,  ..., 0.0000, 0.0000, 0.0000],\n",
              "          [0.0000, 0.0000, 0.0000,  ..., 0.0000, 0.0000, 0.0000],\n",
              "          [0.0000, 0.0000, 0.0000,  ..., 0.0000, 0.0000, 0.0000],\n",
              "          ...,\n",
              "          [0.0000, 0.0000, 0.0000,  ..., 0.0000, 0.0000, 0.0000],\n",
              "          [0.0000, 0.0000, 0.0000,  ..., 0.0000, 0.0000, 0.0000],\n",
              "          [0.0000, 0.0000, 0.0000,  ..., 0.0000, 0.0000, 0.0000]],\n",
              "\n",
              "         [[0.0000, 0.0000, 0.0000,  ..., 0.0000, 0.0000, 0.0000],\n",
              "          [0.0000, 0.0000, 0.0000,  ..., 0.0000, 0.0000, 0.0000],\n",
              "          [0.0000, 0.0000, 0.0000,  ..., 0.0000, 0.0000, 0.0000],\n",
              "          ...,\n",
              "          [0.0000, 0.0000, 0.0000,  ..., 0.0000, 0.0000, 0.0000],\n",
              "          [0.0000, 0.0000, 0.0000,  ..., 0.0000, 0.0000, 0.0000],\n",
              "          [0.0000, 0.0000, 0.0000,  ..., 0.0000, 0.0000, 0.0000]],\n",
              "\n",
              "         [[0.0000, 0.0000, 0.0000,  ..., 0.0000, 0.0000, 0.0000],\n",
              "          [0.0000, 0.0000, 0.0000,  ..., 0.0000, 0.0000, 0.0000],\n",
              "          [0.0000, 0.0000, 0.0000,  ..., 0.0000, 0.0000, 0.0000],\n",
              "          ...,\n",
              "          [0.0000, 0.0000, 0.0000,  ..., 0.0000, 0.0000, 0.0000],\n",
              "          [0.0000, 0.0000, 0.0000,  ..., 0.0000, 0.0000, 0.0000],\n",
              "          [0.0000, 0.0000, 0.0000,  ..., 0.0000, 0.0000, 0.0000]]]])"
            ]
          },
          "metadata": {},
          "execution_count": 26
        }
      ]
    },
    {
      "cell_type": "code",
      "source": [
        "def train_dalle_batch(vae, train_data, _, idx, __):\n",
        "    text, image_codes, mask = train_data\n",
        "    loss = dalle(text[idx, ...], image_codes[idx, ...], return_loss=True)\n",
        "    return loss"
      ],
      "metadata": {
        "id": "F6CpRYbsiv0s"
      },
      "execution_count": null,
      "outputs": []
    },
    {
      "cell_type": "code",
      "source": [
        "dalle = DALLE(\n",
        "    dim = 1024,\n",
        "    vae = vae,                  # automatically infer (1) image sequence length and (2) number of image tokens\n",
        "    num_text_tokens = len(word_tokens) + 1,    # vocab size for text\n",
        "    text_seq_len = longest_caption,         # text sequence length\n",
        "    depth = 12,                 # should aim to be 64\n",
        "    heads = 16,                 # attention heads\n",
        "    dim_head = 64,              # attention head dimension\n",
        "    attn_dropout = 0.1,         # attention dropout\n",
        "    ff_dropout = 0.1            # feedforward dropout\n",
        ").to(dev)\n",
        "\n",
        "opt = torch.optim.Adam(dalle.parameters(), lr=0.001, weight_decay=0.0)\n",
        "scheduler = torch.optim.lr_scheduler.ExponentialLR(opt, 0.98)"
      ],
      "metadata": {
        "id": "71DAOfs7JWMF"
      },
      "execution_count": null,
      "outputs": []
    },
    {
      "cell_type": "code",
      "source": [
        "np.random.seed(1)\n",
        "train_fraction = 0.3\n",
        "train_idx = np.random.choice(len(captions), int(len(captions) * train_fraction))\n"
      ],
      "metadata": {
        "id": "YpgRSr5FiuHI"
      },
      "execution_count": null,
      "outputs": []
    },
    {
      "cell_type": "code",
      "source": [
        "dalle_model_file = \"/content/gdrive/MyDrive/otaku_model/otakue_dalle_model.model\"\n",
        "if not os.path.exists(dalle_model_file):\n",
        "    dalle, loss_history = fit(dalle, opt, None, scheduler, \n",
        "                              (captions_array[train_idx, ...], all_image_codes[train_idx, ...], captions_mask[train_idx, ...]), None, 32, 1, \n",
        "                              dalle_model_file, train_dalle_batch, \n",
        "                              n_train_samples=len(train_idx))\n",
        "\n",
        "    plt.plot(loss_history)\n",
        "else:\n",
        "    dalle.load_state_dict(torch.load(dalle_model_file))"
      ],
      "metadata": {
        "id": "W_quM7Qii7kZ"
      },
      "execution_count": null,
      "outputs": []
    },
    {
      "cell_type": "code",
      "source": [
        ""
      ],
      "metadata": {
        "colab": {
          "base_uri": "https://localhost:8080/"
        },
        "id": "dkwRbLWDvJvZ",
        "outputId": "1e9feefd-b1c3-4795-c0a7-c47ec6fd4428"
      },
      "execution_count": null,
      "outputs": [
        {
          "output_type": "execute_result",
          "data": {
            "text/plain": [
              "tensor([[ 3, 77, 75,  4, 78,  2, 59, 24, 61, 44,  0],\n",
              "        [ 3, 77, 75,  5, 78,  2, 59, 17, 13, 76,  0]], device='cuda:0')"
            ]
          },
          "metadata": {},
          "execution_count": 32
        }
      ]
    },
    {
      "cell_type": "code",
      "source": [
        "generated_images = []\n",
        "with torch.no_grad():\n",
        "    for i in trange(0, 1, 1):\n",
        "        generated = dalle.generate_images(captions_array[i:i + 1, ...])\n",
        "        generated_images.append(generated)\n"
      ],
      "metadata": {
        "colab": {
          "base_uri": "https://localhost:8080/",
          "height": 49,
          "referenced_widgets": [
            "ee91b6b5b7114cf2868a219f8752b0b6",
            "9fa2c7d7fd1649bc9042f8f8d94c09d2",
            "d513c34fcc114da09633b360f138d22d",
            "be7a39d81c1f4323ab286d43a585f0dd",
            "5d02715f5a3e44cb933fb7fa3b3f7a07",
            "bd62322ad1d14500b4278e9f74757d09",
            "f4ecaab7da7940a0a211a76b3538463b",
            "f59915fb1c394457bdcca09fd66bd3e7",
            "562d4a25878844a18fe651334fa8f59b",
            "9a2f4b9d8a954401a73a6f510b45fa24",
            "224e61931d3944cbb57b336029f90ba4"
          ]
        },
        "id": "DbBEsjeNss_f",
        "outputId": "10fbb6ec-d341-4b93-f6fa-e6f140806188"
      },
      "execution_count": null,
      "outputs": [
        {
          "output_type": "display_data",
          "data": {
            "application/vnd.jupyter.widget-view+json": {
              "model_id": "ee91b6b5b7114cf2868a219f8752b0b6",
              "version_minor": 0,
              "version_major": 2
            },
            "text/plain": [
              "  0%|          | 0/1 [00:00<?, ?it/s]"
            ]
          },
          "metadata": {}
        }
      ]
    },
    {
      "cell_type": "code",
      "source": [
        "generated_images"
      ],
      "metadata": {
        "colab": {
          "base_uri": "https://localhost:8080/"
        },
        "id": "xjuOCaw54_xI",
        "outputId": "9d9ddf9a-c126-469e-93a4-eb6425e59aa2"
      },
      "execution_count": null,
      "outputs": [
        {
          "output_type": "execute_result",
          "data": {
            "text/plain": [
              "[tensor([[[[ 0.0396,  0.0403,  0.0405,  ..., -0.1947, -0.1431, -0.0434],\n",
              "           [ 0.0399,  0.0416,  0.0406,  ..., -0.5291, -0.4766, -0.1974],\n",
              "           [ 0.0398,  0.0409,  0.0410,  ..., -0.5967, -0.5442, -0.2206],\n",
              "           ...,\n",
              "           [-0.2673, -0.5694, -0.6413,  ..., -0.6100, -0.5761, -0.2094],\n",
              "           [-0.2468, -0.5434, -0.5909,  ..., -0.5986, -0.5243, -0.2003],\n",
              "           [-0.0635, -0.1832, -0.2106,  ..., -0.1794, -0.1881, -0.0578]],\n",
              " \n",
              "          [[ 0.0321,  0.0349,  0.0331,  ..., -0.2034, -0.1650, -0.0519],\n",
              "           [ 0.0347,  0.0350,  0.0348,  ..., -0.5899, -0.4927, -0.2191],\n",
              "           [ 0.0331,  0.0365,  0.0345,  ..., -0.6297, -0.5529, -0.2343],\n",
              "           ...,\n",
              "           [-0.3402, -0.5860, -0.7048,  ..., -0.6176, -0.6115, -0.2353],\n",
              "           [-0.2527, -0.5704, -0.6087,  ..., -0.5998, -0.5693, -0.2321],\n",
              "           [-0.1049, -0.1916, -0.2558,  ..., -0.2088, -0.2226, -0.0681]],\n",
              " \n",
              "          [[-0.0915, -0.0869, -0.0881,  ..., -0.2527, -0.2614, -0.1562],\n",
              "           [-0.0884, -0.0803, -0.0832,  ..., -0.6078, -0.5357, -0.3106],\n",
              "           [-0.0880, -0.0811, -0.0824,  ..., -0.6142, -0.5887, -0.3166],\n",
              "           ...,\n",
              "           [-0.4024, -0.6337, -0.7223,  ..., -0.6252, -0.6296, -0.2914],\n",
              "           [-0.3464, -0.5949, -0.6514,  ..., -0.6335, -0.5838, -0.3147],\n",
              "           [-0.2192, -0.2828, -0.3558,  ..., -0.2657, -0.3100, -0.1537]]]],\n",
              "        device='cuda:0')]"
            ]
          },
          "metadata": {},
          "execution_count": 32
        }
      ]
    },
    {
      "cell_type": "code",
      "source": [
        "generated_images = generated_images.cpu().numpy()"
      ],
      "metadata": {
        "id": "wqGizwaWsukX",
        "colab": {
          "base_uri": "https://localhost:8080/",
          "height": 169
        },
        "outputId": "c144dd20-c6ff-43c3-d4f7-84dd089b1227"
      },
      "execution_count": null,
      "outputs": [
        {
          "output_type": "error",
          "ename": "AttributeError",
          "evalue": "ignored",
          "traceback": [
            "\u001b[0;31m---------------------------------------------------------------------------\u001b[0m",
            "\u001b[0;31mAttributeError\u001b[0m                            Traceback (most recent call last)",
            "\u001b[0;32m<ipython-input-36-f5421f53aaf3>\u001b[0m in \u001b[0;36m<module>\u001b[0;34m()\u001b[0m\n\u001b[0;32m----> 1\u001b[0;31m \u001b[0mgenerated_images\u001b[0m \u001b[0;34m=\u001b[0m \u001b[0mgenerated_images\u001b[0m\u001b[0;34m.\u001b[0m\u001b[0mcpu\u001b[0m\u001b[0;34m(\u001b[0m\u001b[0;34m)\u001b[0m\u001b[0;34m.\u001b[0m\u001b[0mnumpy\u001b[0m\u001b[0;34m(\u001b[0m\u001b[0;34m)\u001b[0m\u001b[0;34m\u001b[0m\u001b[0;34m\u001b[0m\u001b[0m\n\u001b[0m",
            "\u001b[0;31mAttributeError\u001b[0m: 'numpy.ndarray' object has no attribute 'cpu'"
          ]
        }
      ]
    },
    {
      "cell_type": "code",
      "source": [
        "plt.imshow(np.swapaxes(np.abs(generated_images[0]),0,2))"
      ],
      "metadata": {
        "colab": {
          "base_uri": "https://localhost:8080/",
          "height": 305
        },
        "id": "BuG59zeB5LZJ",
        "outputId": "63561765-070f-467d-f06c-f40a1f4fb91d"
      },
      "execution_count": null,
      "outputs": [
        {
          "output_type": "stream",
          "name": "stderr",
          "text": [
            "Clipping input data to the valid range for imshow with RGB data ([0..1] for floats or [0..255] for integers).\n"
          ]
        },
        {
          "output_type": "execute_result",
          "data": {
            "text/plain": [
              "<matplotlib.image.AxesImage at 0x7ff044f29cd0>"
            ]
          },
          "metadata": {},
          "execution_count": 41
        },
        {
          "output_type": "display_data",
          "data": {
            "image/png": "[encoded data removed]",
            "text/plain": [
              "<Figure size 432x288 with 1 Axes>"
            ]
          },
          "metadata": {
            "needs_background": "light"
          }
        }
      ]
    }
  ]
}